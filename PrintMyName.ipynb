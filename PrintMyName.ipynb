{
  "nbformat": 4,
  "nbformat_minor": 0,
  "metadata": {
    "colab": {
      "name": "PRO-C108-Project-Solution.ipynb",
      "provenance": [],
      "collapsed_sections": [],
      "include_colab_link": true
    },
    "kernelspec": {
      "name": "python3",
      "display_name": "Python 3"
    },
    "language_info": {
      "name": "python"
    }
  },
  "cells": [
    {
      "cell_type": "markdown",
      "metadata": {
        "id": "view-in-github",
        "colab_type": "text"
      },
      "source": [
        "<a href=\"https://colab.research.google.com/github/diksha139/Python/blob/master/PrintMyName.ipynb\" target=\"_parent\"><img src=\"https://colab.research.google.com/assets/colab-badge.svg\" alt=\"Open In Colab\"/></a>"
      ]
    },
    {
      "cell_type": "markdown",
      "metadata": {
        "id": "dBA4tWY44VPi"
      },
      "source": [
        "**PRINT MY NAME**\n"
      ]
    },
    {
      "cell_type": "code",
      "metadata": {
        "colab": {
          "base_uri": "https://localhost:8080/"
        },
        "id": "1xgwjr4K4YvN",
        "outputId": "29ef34c9-96de-492b-909d-145d0c800626"
      },
      "source": [
        "name=(input(\"Enter your name :  \"))\n",
        "iteration = len(name)\n",
        "for i in range(0,iteration):\n",
        "    for j in range(0,iteration):\n",
        "      if(i==j):\n",
        "        print(name[j],sep=\" \",end=\" \")\n",
        "      else:\n",
        "        print(\"*\",sep=\" \",end=\" \")\n",
        "    print()"
      ],
      "execution_count": 1,
      "outputs": [
        {
          "output_type": "stream",
          "name": "stdout",
          "text": [
            "Enter your name :  DIKSHA\n",
            "D * * * * * \n",
            "* I * * * * \n",
            "* * K * * * \n",
            "* * * S * * \n",
            "* * * * H * \n",
            "* * * * * A \n"
          ]
        }
      ]
    }
  ]
}