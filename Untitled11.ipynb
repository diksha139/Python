{
  "nbformat": 4,
  "nbformat_minor": 0,
  "metadata": {
    "colab": {
      "name": "Untitled11.ipynb",
      "provenance": [],
      "authorship_tag": "ABX9TyMhH7cPAgBGf4sSYL4kyF+4",
      "include_colab_link": true
    },
    "kernelspec": {
      "name": "python3",
      "display_name": "Python 3"
    },
    "language_info": {
      "name": "python"
    }
  },
  "cells": [
    {
      "cell_type": "markdown",
      "metadata": {
        "id": "view-in-github",
        "colab_type": "text"
      },
      "source": [
        "<a href=\"https://colab.research.google.com/github/diksha139/Python/blob/master/Untitled11.ipynb\" target=\"_parent\"><img src=\"https://colab.research.google.com/assets/colab-badge.svg\" alt=\"Open In Colab\"/></a>"
      ]
    },
    {
      "cell_type": "code",
      "execution_count": 3,
      "metadata": {
        "colab": {
          "base_uri": "https://localhost:8080/"
        },
        "id": "7Qf58Djvm5vd",
        "outputId": "b8e1a44a-94ab-4d81-9336-88a4804fad4e"
      },
      "outputs": [
        {
          "output_type": "stream",
          "name": "stdout",
          "text": [
            "30\n"
          ]
        }
      ],
      "source": [
        "dict1= {\n",
        "    'key1': \"value1\", 'roll': 30,\n",
        "}\n",
        "print(dict1['roll'])"
      ]
    },
    {
      "cell_type": "markdown",
      "source": [
        "OOPs"
      ],
      "metadata": {
        "id": "ZnL31jAhotNW"
      }
    },
    {
      "cell_type": "code",
      "source": [
        "class ClassName:\n",
        "  def __init__(self):\n"
      ],
      "metadata": {
        "id": "BWXr6iSboliI"
      },
      "execution_count": null,
      "outputs": []
    },
    {
      "cell_type": "code",
      "source": [
        "class Contact_Details:\n",
        "  def __init__(self,name,mobile_number,email,address):\n",
        "    self.contact_name = name\n",
        "    self.contact_number= mobile_number\n",
        "    self.email= email\n",
        "    self.contact_address= address\n",
        "\n",
        "    self.person={\n",
        "        'name':self.contact_name,\n",
        "        'mobile':self.contact_number,\n",
        "        'email':self.email,\n",
        "        'address':self.contact_address\n",
        "    }\n",
        "  \n",
        "\n",
        "new_contact = Contact_Details(\"Kanvi\",8590590876,\"abc@gmail.com\",\"sydney\")\n",
        "print(new_contact)"
      ],
      "metadata": {
        "colab": {
          "base_uri": "https://localhost:8080/"
        },
        "id": "cHsFjOR6sqTR",
        "outputId": "67e630d3-780b-4192-d3a1-c74309a2ae56"
      },
      "execution_count": 7,
      "outputs": [
        {
          "output_type": "stream",
          "name": "stdout",
          "text": [
            "<__main__.Contact_Details object at 0x7f632fb5c6d0>\n"
          ]
        }
      ]
    }
  ]
}