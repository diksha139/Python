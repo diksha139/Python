{
  "nbformat": 4,
  "nbformat_minor": 0,
  "metadata": {
    "colab": {
      "name": "Untitled12.ipynb",
      "provenance": [],
      "authorship_tag": "ABX9TyMqL2V6yY7eXgVTZ2VXsSEz",
      "include_colab_link": true
    },
    "kernelspec": {
      "name": "python3",
      "display_name": "Python 3"
    },
    "language_info": {
      "name": "python"
    }
  },
  "cells": [
    {
      "cell_type": "markdown",
      "metadata": {
        "id": "view-in-github",
        "colab_type": "text"
      },
      "source": [
        "<a href=\"https://colab.research.google.com/github/diksha139/Python/blob/master/Untitled12.ipynb\" target=\"_parent\"><img src=\"https://colab.research.google.com/assets/colab-badge.svg\" alt=\"Open In Colab\"/></a>"
      ]
    },
    {
      "cell_type": "code",
      "execution_count": 4,
      "metadata": {
        "colab": {
          "base_uri": "https://localhost:8080/"
        },
        "id": "E5p-bZLm2adE",
        "outputId": "a830a4e9-0388-4675-844e-fc8ab952535c"
      },
      "outputs": [
        {
          "output_type": "stream",
          "name": "stdout",
          "text": [
            "8490145672\n"
          ]
        }
      ],
      "source": [
        "#Syntax of dictionary\n",
        "\n",
        "person = {\n",
        "   'name':'ABC',\n",
        "   'mobile':8490145672,\n",
        "   'address':'kochi',\n",
        "   'email':'abc@gmail.com'\n",
        "}\n",
        "\n",
        "print(person['mobile'])\n"
      ]
    },
    {
      "cell_type": "code",
      "source": [
        "\n",
        "class Contact_Details:\n",
        "  def __init__(self,name,mobile_number,email,address):\n",
        "    self.contact_name = name\n",
        "    self.contact_number = mobile_number\n",
        "    self.email = email\n",
        "    self.contact_address= address\n",
        "\n",
        "    self.person={\n",
        "        'name': self.contact_name,\n",
        "        'mobile':self.contact_number,\n",
        "        'email': self.email,\n",
        "        'address':self.contact_address\n",
        "    }\n",
        "\n",
        "  def view_contact_details(self,contact_list):\n",
        "    print(contact_list)\n",
        "\n",
        "  def add_contact_details(self,contact_list):\n",
        "    contact_list.append(self.person)\n",
        "\n",
        "\n",
        "\n",
        "phonebook_list=[]\n",
        "\n",
        "object1 = Contact_Details(\"Kanvi\",5678003627,\"abc@gmail.com\",\"Sydney\")\n",
        "\n",
        "object1.add_contact_details(phonebook_list)\n",
        "\n",
        "object2 = Contact_Details(\"Pragya\",5658003627,\"xyz@gmail.com\",\"kochi\")\n",
        "\n",
        "object2.add_contact_details(phonebook_list)\n",
        "\n",
        "\n",
        "object2.view_contact_details(phonebook_list)"
      ],
      "metadata": {
        "colab": {
          "base_uri": "https://localhost:8080/"
        },
        "id": "3GtBR1Zp4xjG",
        "outputId": "f412ef6d-9634-4826-8fcd-21104692cc49"
      },
      "execution_count": 14,
      "outputs": [
        {
          "output_type": "stream",
          "name": "stdout",
          "text": [
            "[{'name': 'Kanvi', 'mobile': 5678003627, 'email': 'abc@gmail.com', 'address': 'Sydney'}, {'name': 'Pragya', 'mobile': 5658003627, 'email': 'xyz@gmail.com', 'address': 'kochi'}]\n"
          ]
        }
      ]
    }
  ]
}