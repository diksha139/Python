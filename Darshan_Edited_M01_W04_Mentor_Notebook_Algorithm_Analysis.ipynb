{
  "cells": [
    {
      "cell_type": "markdown",
      "metadata": {
        "id": "view-in-github",
        "colab_type": "text"
      },
      "source": [
        "<a href=\"https://colab.research.google.com/github/diksha139/Python/blob/master/Darshan_Edited_M01_W04_Mentor_Notebook_Algorithm_Analysis.ipynb\" target=\"_parent\"><img src=\"https://colab.research.google.com/assets/colab-badge.svg\" alt=\"Open In Colab\"/></a>"
      ]
    },
    {
      "cell_type": "markdown",
      "id": "fce8db92",
      "metadata": {
        "id": "fce8db92"
      },
      "source": [
        "<img src=\"http://drive.google.com/uc?export=view&id=1JzM1Jig5KAOCvU4tIf2t66B3gd1uy1rG\" width=500px>\n",
        "\n",
        "Proprietary content. Â© Great Learning. All Rights Reserved. Unauthorized use or distribution prohibited."
      ]
    },
    {
      "cell_type": "markdown",
      "id": "767174c9",
      "metadata": {
        "id": "767174c9"
      },
      "source": [
        "## <font color='blue'> Table Of Contents </font>\n",
        "\n",
        "### <font color='blue'> A. Coding Examples </font>\n",
        "\n",
        "<font color='blue'>\n",
        "    \n",
        "* Finding second maximum from a given list of numbers.\n",
        "* Given a list of numbers and target sum, find if there exists a pair of numbers in the given list whose sum equals to the target sum.\n",
        "    \n",
        "</font>\n",
        "\n",
        "### <font color='blue'> B. Practice Examples </font>"
      ]
    },
    {
      "cell_type": "markdown",
      "id": "0b7f5ec0",
      "metadata": {
        "id": "0b7f5ec0"
      },
      "source": [
        "### Coding Examples"
      ]
    },
    {
      "cell_type": "markdown",
      "id": "5dd00497",
      "metadata": {
        "id": "5dd00497"
      },
      "source": [
        "Let's see an example where there are two approches for finding second maximum from the given list of numbers."
      ]
    },
    {
      "cell_type": "code",
      "execution_count": null,
      "id": "d4d66d49",
      "metadata": {
        "ExecuteTime": {
          "end_time": "2023-02-12T10:56:49.449981Z",
          "start_time": "2023-02-12T10:56:49.441012Z"
        },
        "id": "d4d66d49"
      },
      "outputs": [],
      "source": [
        "from datetime import datetime\n",
        "import random\n",
        "\n",
        "# Time Complexity is O(n) where n is the length of the numbers list\n",
        "\n",
        "\n",
        "def find_second_largest_one(numbers: list):\n",
        "    start_time = datetime.now()  # O(1)\n",
        "    largest = float('-inf')  # O(1)\n",
        "    # https://stackoverflow.com/questions/34264710/what-is-the-point-of-floatinf-in-python\n",
        "    second_largest = float('-inf')  # O(1)\n",
        "\n",
        "    for number in numbers:  # O(n) where n is the length of numbers list\n",
        "        # O(n) as it will execute for n times where n is the length of the numbers list\n",
        "        if number > largest:\n",
        "            # O(n) as maximum it will execute for n times where is the length of the numbers list\n",
        "            second_largest = largest\n",
        "            # O(n) as maximum it will execute for n times where n is the length of the numbers list\n",
        "            largest = number\n",
        "\n",
        "    # Time taken for algorithm to run\n",
        "    print(\"Time taken for algorithm one to run : \",\n",
        "          datetime.now() - start_time)  # O(1)\n",
        "    print(second_largest)  # O(1)\n",
        "\n",
        "# Time Complexity = O(1) + O(1) + O(1) + O(n) + O(n) + O(n) + O(n) + O(1) + O(1)\n",
        "#                = 5*O(1) + 3*O(n) ~ O(n)"
      ]
    },
    {
      "cell_type": "code",
      "execution_count": null,
      "id": "adc8af2f",
      "metadata": {
        "ExecuteTime": {
          "end_time": "2023-02-12T10:56:59.930613Z",
          "start_time": "2023-02-12T10:56:59.924458Z"
        },
        "scrolled": true,
        "id": "adc8af2f",
        "outputId": "4207b671-19a0-44b2-9832-90b58e279a67"
      },
      "outputs": [
        {
          "name": "stdout",
          "output_type": "stream",
          "text": [
            "Time taken for algorithm one to run :  0:00:00.000010\n",
            "3\n"
          ]
        }
      ],
      "source": [
        "find_second_largest_one([-1,3,-6,99,32])"
      ]
    },
    {
      "cell_type": "code",
      "execution_count": null,
      "id": "e7faccf9",
      "metadata": {
        "ExecuteTime": {
          "end_time": "2023-02-12T11:04:30.653626Z",
          "start_time": "2023-02-12T11:04:30.641115Z"
        },
        "id": "e7faccf9"
      },
      "outputs": [],
      "source": [
        "from datetime import datetime\n",
        "import random\n",
        "\n",
        "# Time Complexity is O(n) where n is the length of the numbers list\n",
        "\n",
        "\n",
        "def find_second_largest_one1(list1):\n",
        "    start_time = datetime.now()  # O(1)\n",
        "    mx = max(list1[0], list1[1])\n",
        "    secondmax = min(list1[0], list1[1])\n",
        "    n = len(list1)\n",
        "    for i in range(2,n):\n",
        "        if list1[i] > mx:\n",
        "            secondmax = mx\n",
        "            mx = list1[i]\n",
        "        elif list1[i] > secondmax and mx != list1[i]:\n",
        "            secondmax = list1[i]\n",
        "        elif mx == secondmax and secondmax != list1[i]:\n",
        "              secondmax = list1[i]\n",
        " \n",
        "    print(\"Second highest number is : \",str(secondmax))\n",
        "    print(\"Time taken for algorithm one to run : \",\n",
        "          datetime.now() - start_time)  # O(1)\n",
        "\n",
        "# Time Complexity = O(1) + O(1) + O(1) + O(n) + O(n) + O(n) + O(n) + O(1) + O(1)\n",
        "#                = 5*O(1) + 3*O(n) ~ O(n)"
      ]
    },
    {
      "cell_type": "code",
      "execution_count": null,
      "id": "e1f2b2a5",
      "metadata": {
        "ExecuteTime": {
          "end_time": "2023-02-12T11:04:32.262926Z",
          "start_time": "2023-02-12T11:04:32.255051Z"
        },
        "id": "e1f2b2a5",
        "outputId": "4f579de5-59fa-401c-de2e-a09ecab53c31"
      },
      "outputs": [
        {
          "name": "stdout",
          "output_type": "stream",
          "text": [
            "Second highest number is :  32\n",
            "Time taken for algorithm one to run :  0:00:00.000582\n"
          ]
        }
      ],
      "source": [
        "find_second_largest_one1([-1,3,-6,99,32])"
      ]
    },
    {
      "cell_type": "markdown",
      "id": "538cc7ee",
      "metadata": {
        "id": "538cc7ee"
      },
      "source": [
        "![image.png](attachment:image.png)"
      ]
    },
    {
      "cell_type": "raw",
      "id": "ba62ea90",
      "metadata": {
        "id": "ba62ea90"
      },
      "source": [
        "https://stackoverflow.com/questions/34264710/what-is-the-point-of-floatinf-in-python\n",
        "\n",
        "What is float ('- INF ') in Python?\n",
        "\n",
        "Since infinity cannot be represented by a number in programming languages, the float() function is used to represent an infinite integer in the form of float(inf). It converts the string infinity value to a floating infinity value. This is how float() in Python works for infinity. print(float('inf')) Output = inf"
      ]
    },
    {
      "cell_type": "code",
      "execution_count": null,
      "id": "32c8c678",
      "metadata": {
        "ExecuteTime": {
          "end_time": "2023-02-12T11:06:48.531292Z",
          "start_time": "2023-02-12T11:06:48.522285Z"
        },
        "id": "32c8c678"
      },
      "outputs": [],
      "source": [
        "# Time Complexity is O(n*logn) where n is the length of the numbers list\n",
        "def find_second_largest_two(numbers: list):\n",
        "    start_time = datetime.now()  # O(1)\n",
        "\n",
        "    # O(n*logn) where n is the length of numbers list\n",
        "    # https://www.quora.com/Which-sorting-algorithm-is-used-by-Python-in-the-sort-method\n",
        "    numbers.sort(reverse=True)\n",
        "    second_largest = numbers[1]  # O(1)\n",
        "\n",
        "    # Time taken for algorithm to run\n",
        "    print(\"Time taken for algorithm two to run : \",\n",
        "          datetime.now() - start_time)  # O(1)\n",
        "    print(second_largest)  # O(1)\n",
        "\n",
        "# Time Complexity = O(1) + O(n*logn) + O(1) + O(1)\n",
        "#                = 3*O(1) + O(n*logn) ~ O(n*logn)"
      ]
    },
    {
      "cell_type": "code",
      "execution_count": null,
      "id": "771e9342",
      "metadata": {
        "ExecuteTime": {
          "end_time": "2023-02-12T11:06:49.307120Z",
          "start_time": "2023-02-12T11:06:49.300314Z"
        },
        "id": "771e9342",
        "outputId": "3fa2a6b4-d630-4dc8-9a11-dd16d5a824ee"
      },
      "outputs": [
        {
          "name": "stdout",
          "output_type": "stream",
          "text": [
            "Time taken for algorithm two to run :  0:00:00.000013\n",
            "32\n"
          ]
        }
      ],
      "source": [
        "find_second_largest_two([-1,3,-6,99,32])"
      ]
    },
    {
      "cell_type": "code",
      "execution_count": null,
      "id": "bfacf616",
      "metadata": {
        "ExecuteTime": {
          "end_time": "2023-02-12T11:08:09.240845Z",
          "start_time": "2023-02-12T11:08:08.181232Z"
        },
        "id": "bfacf616",
        "outputId": "1eef11b3-f4a0-43b6-b9be-12a441f93da8"
      },
      "outputs": [
        {
          "name": "stdout",
          "output_type": "stream",
          "text": [
            "1 999993\n",
            "Time taken for algorithm one to run :  0:00:00.023558\n",
            "999992\n",
            "Second highest number is :  999992\n",
            "Time taken for algorithm one to run :  0:00:00.103699\n",
            "Time taken for algorithm two to run :  0:00:00.172160\n",
            "999992\n"
          ]
        }
      ],
      "source": [
        "# Generating a list of numbers for testing the implementation\n",
        "numbers = list()\n",
        "for i in range(0, 1000000):\n",
        "    numbers.append(random.randint(1, 1000000))\n",
        "\n",
        "print(min(numbers), max(numbers))\n",
        "find_second_largest_one(numbers)\n",
        "find_second_largest_one1(numbers)\n",
        "find_second_largest_two(numbers)"
      ]
    },
    {
      "cell_type": "code",
      "execution_count": null,
      "id": "e6d6c60a",
      "metadata": {
        "ExecuteTime": {
          "end_time": "2023-02-12T11:08:29.900453Z",
          "start_time": "2023-02-12T11:08:29.890683Z"
        },
        "id": "e6d6c60a",
        "outputId": "36fb87da-1db5-438f-9da4-7cd23d1c5803"
      },
      "outputs": [
        {
          "data": {
            "text/plain": [
              "False"
            ]
          },
          "execution_count": 8,
          "metadata": {},
          "output_type": "execute_result"
        }
      ],
      "source": [
        ".103699 > .172160"
      ]
    },
    {
      "cell_type": "markdown",
      "id": "8fcf9ec8",
      "metadata": {
        "id": "8fcf9ec8"
      },
      "source": [
        "Now when we ran these two functions , the later one (algorithm two) took more time for execution. So we can say that the **first algorithm will be the best choice for finding the second maximum from the given list of numbers**."
      ]
    },
    {
      "cell_type": "markdown",
      "id": "c43a435e",
      "metadata": {
        "id": "c43a435e"
      },
      "source": [
        "Let's take one more example where we have a list of numbers and target sum and we need to check if there exists a pair of numbers whose sum equals to the target sum or not."
      ]
    },
    {
      "cell_type": "code",
      "execution_count": null,
      "id": "a99f07ed",
      "metadata": {
        "ExecuteTime": {
          "end_time": "2023-02-09T07:41:27.754100Z",
          "start_time": "2023-02-09T07:41:27.744162Z"
        },
        "id": "a99f07ed"
      },
      "outputs": [],
      "source": [
        "import random\n",
        "from datetime import datetime\n",
        "\n",
        "# Time Complexity = O(n^2) where n is the length of the numbers list\n",
        "\n",
        "\n",
        "def is_pair_found_one_way(numbers, target_sum):\n",
        "    start_time = datetime.now()  # O(1)\n",
        "    for i in numbers:  # O(n)\n",
        "        for j in numbers:  # O(n*n)\n",
        "            if i+j == target_sum:  # O(n*n)\n",
        "                print(\"Time taken for execution by algorithm one : \",\n",
        "                      datetime.now() - start_time)  # O(1)\n",
        "                return True  # O(1)\n",
        "    print(\"Time taken for execution by algorithm one : \",\n",
        "          datetime.now() - start_time)  # O(1)\n",
        "    return False  # O(1)\n",
        "\n",
        "# Time Complexity = O(1) + O(n) + O(n*n) + O(n*n) + O(1) + O(1) + O(1) + O(1)\n",
        "#                = 5*O(1) + O(n) + 2*O(n*n) ~ O(n^2)"
      ]
    },
    {
      "cell_type": "code",
      "execution_count": null,
      "id": "0b70cad1",
      "metadata": {
        "ExecuteTime": {
          "end_time": "2023-02-11T04:31:01.172761Z",
          "start_time": "2023-02-11T04:31:01.165974Z"
        },
        "id": "0b70cad1"
      },
      "outputs": [],
      "source": [
        "l = [1,2,3,4,5]\n",
        "for i in l:\n",
        "    for j in l:\n",
        "        print(f\"({i},{j})={i+j}\")"
      ]
    },
    {
      "cell_type": "code",
      "execution_count": null,
      "id": "e3ccf23e",
      "metadata": {
        "ExecuteTime": {
          "end_time": "2023-02-11T04:35:22.680575Z",
          "start_time": "2023-02-11T04:35:22.671255Z"
        },
        "id": "e3ccf23e"
      },
      "outputs": [],
      "source": [
        "# Time Complexity = O(n) where n is the length of the numbers list\n",
        "def is_pair_found_second_way(numbers, target_sum):\n",
        "    cache = dict()  # O(1)\n",
        "    print(\"cache=\",cache)\n",
        "    start_time = datetime.now()  # O(1)\n",
        "    for i in numbers:  # O(n)\n",
        "        if (target_sum - i) in cache:  # O(n)\n",
        "            print(\"Time taken for execution by algorithm second : \",\n",
        "                  datetime.now() - start_time)  # O(1)\n",
        "            return True  # O(1)\n",
        "        cache[i] = i  # O(n)\n",
        "        print(cache)\n",
        "    print(\"Time taken for execution by algorithm second : \",\n",
        "          datetime.now() - start_time)  # O(1)\n",
        "    print(\"cache:\",cache)\n",
        "    return False  # O(1)\n",
        "\n",
        "# Time Complexity = O(1) + O(1) + O(n) + O(n) + O(1) + O(1) + O(n) + O(1) + O(1)\n",
        "#                = 6*O(1) + 2*O(n) ~ O(n)"
      ]
    },
    {
      "cell_type": "code",
      "execution_count": null,
      "id": "2b4e6142",
      "metadata": {
        "ExecuteTime": {
          "end_time": "2023-02-11T04:37:44.521172Z",
          "start_time": "2023-02-11T04:37:44.511754Z"
        },
        "id": "2b4e6142"
      },
      "outputs": [],
      "source": [
        "is_pair_found_second_way([1,2,3,4,5], 10)"
      ]
    },
    {
      "cell_type": "code",
      "execution_count": null,
      "id": "33b24f70",
      "metadata": {
        "ExecuteTime": {
          "end_time": "2023-02-09T07:41:29.570161Z",
          "start_time": "2023-02-09T07:41:29.560836Z"
        },
        "id": "33b24f70"
      },
      "outputs": [],
      "source": [
        "# Time Complexity = O(n*logn) where n is the length of the numbers list\n",
        "def is_pair_found_third_way(numbers, target_sum):\n",
        "    start_time = datetime.now()  # O(1)\n",
        "\n",
        "    numbers.sort()  # O(n*logn)\n",
        "\n",
        "    low = 0  # O(1)\n",
        "    # O(1) as the \"len\" method takes constant time irrespective of length of numbers list\n",
        "    high = len(numbers) - 1\n",
        "\n",
        "    while low < high:  # O(n)\n",
        "        current_sum = numbers[low] + numbers[high]  # O(n)\n",
        "\n",
        "        if current_sum == target_sum:  # O(n)\n",
        "            print(\"Time taken for execution by algorithm third : \",\n",
        "                  datetime.now() - start_time)  # O(1)\n",
        "            return True  # O(1)\n",
        "\n",
        "        elif current_sum < target_sum:  # O(n)\n",
        "            low += 1  # O(n)\n",
        "\n",
        "        else:  # O(n)\n",
        "            high -= 1  # O(n)\n",
        "    print(\"Time taken for execution by algorithm third : \",\n",
        "          datetime.now() - start_time)  # O(1)\n",
        "    return False  # O(1)\n",
        "\n",
        "# Time Complexity = O(1) + O(n*logn) + O(1) + O(1) + O(n) + O(n)\n",
        "#                + O(n) + O(1) + O(1) + O(n) + O(n) + O(n) + O(n) + O(1) + O(1)\n",
        "#                = 7*O(1) + O(n*logn) + 7*O(n) ~ O(n*logn)"
      ]
    },
    {
      "cell_type": "code",
      "execution_count": null,
      "id": "112e73a8",
      "metadata": {
        "ExecuteTime": {
          "end_time": "2023-02-09T10:08:01.960123Z",
          "start_time": "2023-02-09T10:08:01.920393Z"
        },
        "id": "112e73a8"
      },
      "outputs": [],
      "source": [
        "# Generating a list of numbers for testing the implementation\n",
        "numbers = list()\n",
        "\n",
        "for i in range(0, 10000):\n",
        "    numbers.append(random.randint(1, 10000))\n",
        "\n",
        "target_sum = 5000\n",
        "\n",
        "is_pair_found_one_way(numbers, target_sum)\n",
        "is_pair_found_second_way(numbers, target_sum)\n",
        "is_pair_found_third_way(numbers, target_sum)"
      ]
    },
    {
      "cell_type": "markdown",
      "id": "aabc60fa",
      "metadata": {
        "id": "aabc60fa"
      },
      "source": [
        "Now when we ran these three functions , the second algorithm took very less time for the execution. **So we can say that the second algorithm will be the best choice for checking if the pair of numbers exists in the numbers list whose sum equals to the target sum.**"
      ]
    },
    {
      "cell_type": "markdown",
      "id": "6f8b79ee",
      "metadata": {
        "id": "6f8b79ee"
      },
      "source": [
        "### Practice Examples"
      ]
    },
    {
      "cell_type": "code",
      "execution_count": null,
      "id": "8b94349f",
      "metadata": {
        "ExecuteTime": {
          "end_time": "2023-02-09T07:41:32.153392Z",
          "start_time": "2023-02-09T07:41:32.141194Z"
        },
        "id": "8b94349f"
      },
      "outputs": [],
      "source": [
        "def product(a, b):\n",
        "    sum = 0  # O(1)\n",
        "\n",
        "    for i in range(0, b):  # O(b)\n",
        "        print(\"*\")  # O(b)\n",
        "        sum += a  # O(b)\n",
        "\n",
        "    return sum  # O(1)\n",
        "\n",
        "\n",
        "product(2, 10)\n",
        "\n",
        "# Time Complexity = O(1) + O(b) + O(b) + O(b) + O(1) = 3*O(b) + 2*O(1) ~ O(b)"
      ]
    },
    {
      "cell_type": "code",
      "execution_count": null,
      "id": "7f0703b3",
      "metadata": {
        "ExecuteTime": {
          "end_time": "2023-02-09T07:41:33.017817Z",
          "start_time": "2023-02-09T07:41:33.008221Z"
        },
        "id": "7f0703b3"
      },
      "outputs": [],
      "source": [
        "def mod(a, b):\n",
        "    if b <= 0:  # O(1)\n",
        "        return -1  # O(1)\n",
        "    div = a / b  # O(1)\n",
        "    return a - div * b  # O(1)\n",
        "\n",
        "\n",
        "mod(17, 3)\n",
        "\n",
        "# Time Complexity = O(1) + O(1) + O(1) + O(1) = 4*O(1) ~ O(1)"
      ]
    },
    {
      "cell_type": "code",
      "execution_count": null,
      "id": "003039dc",
      "metadata": {
        "ExecuteTime": {
          "end_time": "2023-02-09T07:41:33.606285Z",
          "start_time": "2023-02-09T07:41:33.595654Z"
        },
        "id": "003039dc"
      },
      "outputs": [],
      "source": [
        "def div(a, b):\n",
        "    count = 0  # O(1)\n",
        "    sum = b  # O(1)\n",
        "    while sum <= a:  # O(a/b)\n",
        "        print(\"*\")  # O(a/b)\n",
        "        sum += b  # O(a/b)\n",
        "        count += 1  # O(a/b)\n",
        "\n",
        "    return count  # O(1)\n",
        "\n",
        "\n",
        "div(4, 2)\n",
        "\n",
        "# Time Complexity = O(1) + O(1) + O(a/b) + O(a/b) + O(a/b) + O(1) = 3*O(1) + 3*O(a/b) ~ O(a/b)"
      ]
    },
    {
      "cell_type": "code",
      "execution_count": null,
      "id": "ac719b59",
      "metadata": {
        "ExecuteTime": {
          "end_time": "2023-02-09T07:41:34.150741Z",
          "start_time": "2023-02-09T07:41:34.139178Z"
        },
        "id": "ac719b59"
      },
      "outputs": [],
      "source": [
        "def sqrt(n):\n",
        "    guess = 1  # O(1)\n",
        "    while(guess * guess <= n):  # O(sqrt(n))\n",
        "        print(\"*\")\n",
        "        if (guess * guess) == n:  # O(sqrt(n))\n",
        "            return guess  # Maximum O(sqrt(n))\n",
        "\n",
        "        guess += 1  # O(sqrt(n))\n",
        "\n",
        "    return -1  # O(1)\n",
        "\n",
        "\n",
        "sqrt(16)\n",
        "\n",
        "# Time Complexity = O(1) + O(sqrt(n)) + O(sqrt(n)) + O(sqrt(n)) + O(1) = 2*O(1) + 3*O(sqrt(n)) ~ O(sqrt(n))"
      ]
    },
    {
      "cell_type": "code",
      "execution_count": null,
      "id": "440815b9",
      "metadata": {
        "ExecuteTime": {
          "end_time": "2023-02-09T07:41:34.672548Z",
          "start_time": "2023-02-09T07:41:34.660029Z"
        },
        "id": "440815b9"
      },
      "outputs": [],
      "source": [
        "def sum_digits(n):\n",
        "    sum = 0  # O(1)\n",
        "    while n > 0:  # O(log n)\n",
        "        sum += n % 10  # O(log n)\n",
        "        n = int(n/10)  # O(log n)\n",
        "        print(\"*\")  # O(log n)\n",
        "    return sum  # O(1)\n",
        "\n",
        "\n",
        "sum_digits(123)\n",
        "\n",
        "# Time Complexity = O(1) + O(log n) + O(log n) + O(log n) + O(1) = 2*O(1) + 3*O(logn) ~ O(logn)"
      ]
    },
    {
      "cell_type": "code",
      "execution_count": null,
      "id": "b8809438",
      "metadata": {
        "id": "b8809438"
      },
      "outputs": [],
      "source": []
    }
  ],
  "metadata": {
    "kernelspec": {
      "display_name": "Python 3 (ipykernel)",
      "language": "python",
      "name": "python3"
    },
    "language_info": {
      "codemirror_mode": {
        "name": "ipython",
        "version": 3
      },
      "file_extension": ".py",
      "mimetype": "text/x-python",
      "name": "python",
      "nbconvert_exporter": "python",
      "pygments_lexer": "ipython3",
      "version": "3.9.13"
    },
    "varInspector": {
      "cols": {
        "lenName": 16,
        "lenType": 16,
        "lenVar": 40
      },
      "kernels_config": {
        "python": {
          "delete_cmd_postfix": "",
          "delete_cmd_prefix": "del ",
          "library": "var_list.py",
          "varRefreshCmd": "print(var_dic_list())"
        },
        "r": {
          "delete_cmd_postfix": ") ",
          "delete_cmd_prefix": "rm(",
          "library": "var_list.r",
          "varRefreshCmd": "cat(var_dic_list()) "
        }
      },
      "types_to_exclude": [
        "module",
        "function",
        "builtin_function_or_method",
        "instance",
        "_Feature"
      ],
      "window_display": false
    },
    "colab": {
      "provenance": [],
      "include_colab_link": true
    }
  },
  "nbformat": 4,
  "nbformat_minor": 5
}